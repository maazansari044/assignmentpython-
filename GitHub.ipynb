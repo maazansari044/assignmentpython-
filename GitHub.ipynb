{
 "cells": [
  {
   "cell_type": "code",
   "execution_count": 1,
   "id": "f5ce0e6b-05ab-4ee7-b5e9-08d93748ec34",
   "metadata": {},
   "outputs": [
    {
     "name": "stdin",
     "output_type": "stream",
     "text": [
      "enter the number :  97\n"
     ]
    },
    {
     "name": "stdout",
     "output_type": "stream",
     "text": [
      "97 is the prime number\n"
     ]
    }
   ],
   "source": [
    "# <!-- 1. Take the input from user and find whether number is prime or not?\n",
    "# Prime numbers are number which are divide by 1 or themselves only.\n",
    "# Example: 13 is a prime number.\n",
    "# Example: 97 is a prime number \n",
    "\n",
    "# using normal logic\n",
    "\n",
    "num = int(input(\"enter the number : \"))\n",
    "if num > 1:\n",
    "    for i in range (2,int(num**0.5)+1):\n",
    "        if num%i == 0:\n",
    "            print(num,\"this not prime number\")\n",
    "            break\n",
    "    else:\n",
    "        print(num,\"is the prime number\")\n",
    "else:\n",
    "    print(num,\"this is not prime number\")\n",
    "        "
   ]
  },
  {
   "cell_type": "code",
   "execution_count": 5,
   "id": "82fd628e-5e91-4b18-a0d7-c565d8edc59a",
   "metadata": {},
   "outputs": [
    {
     "name": "stdin",
     "output_type": "stream",
     "text": [
      "enter the number : 97\n"
     ]
    },
    {
     "name": "stdout",
     "output_type": "stream",
     "text": [
      "97 is the prime number\n"
     ]
    }
   ],
   "source": [
    "# using function logice\n",
    "\n",
    "def is_prime(num):\n",
    "    if num > 1:\n",
    "        for i in range (2,int(num**0.5)+1):\n",
    "            if num%i == 0:\n",
    "                print(num,\"this not prime number\")\n",
    "                break\n",
    "        else:\n",
    "            print(num,\"is the prime number\")\n",
    "    else:\n",
    "        print(num,\"this is not prime number\")\n",
    "\n",
    "user = int(input(\"enter the number :\"))\n",
    "\n",
    "is_prime(user)"
   ]
  },
  {
   "cell_type": "code",
   "execution_count": 9,
   "id": "6695ac58-5e5d-41da-9fa1-f248eb51bae3",
   "metadata": {},
   "outputs": [
    {
     "name": "stdin",
     "output_type": "stream",
     "text": [
      "enter the number : 97\n"
     ]
    },
    {
     "name": "stdout",
     "output_type": "stream",
     "text": [
      "97 is the prime number\n"
     ]
    }
   ],
   "source": [
    "# using oops logic\n",
    "\n",
    "class Prime_number:\n",
    "    def __init__(self,number):\n",
    "        self.number = number\n",
    "    def is_prime(self):\n",
    "        if self.number > 1:\n",
    "            for i in range (2,int(self.number**0.5)+1):\n",
    "                if self.number%i == 0:\n",
    "                    print(self.number,\"this not prime number\")\n",
    "                    break\n",
    "            else:\n",
    "                print(self.number,\"is the prime number\")\n",
    "if __name__ == \"__main__\":\n",
    "    user = int(input(\"enter the number :\"))\n",
    "    object1 = Prime_number(user)\n",
    "    object1.is_prime()"
   ]
  },
  {
   "cell_type": "code",
   "execution_count": null,
   "id": "a382a574-73b3-4356-9105-5a0090767b49",
   "metadata": {},
   "outputs": [],
   "source": [
    "# 2. Reverse the string using for loop.\n",
    "# string = \"Python\"\n",
    "# Expected output = \"nohtyP\"\n",
    "\n",
    "\n"
   ]
  },
  {
   "cell_type": "code",
   "execution_count": 19,
   "id": "ad0617c3-df49-4cc9-b7cf-89a60cd1cbc7",
   "metadata": {},
   "outputs": [
    {
     "name": "stdin",
     "output_type": "stream",
     "text": [
      "enter the string to reverse :  python\n"
     ]
    },
    {
     "name": "stdout",
     "output_type": "stream",
     "text": [
      "nohtyp\n"
     ]
    }
   ],
   "source": [
    "# oops method\n",
    "class Reverse_string:\n",
    "    def __init__(self,string):\n",
    "        self.string = string\n",
    "\n",
    "    def string_reverse (self):\n",
    "        return self.string[::-1]\n",
    "\n",
    "if __name__ == \"__main__\":\n",
    "    string_input = input(\"enter the string to reverse : \")\n",
    "    object2 = Reverse_string(string_input)\n",
    "    print(object2.string_reverse())"
   ]
  },
  {
   "cell_type": "code",
   "execution_count": 23,
   "id": "5310d660-1aea-4335-81ab-726237fe68b9",
   "metadata": {},
   "outputs": [
    {
     "name": "stdout",
     "output_type": "stream",
     "text": [
      "this is string palindrome\n"
     ]
    }
   ],
   "source": [
    "# 3. Palindrome Check (String Problem)\n",
    "# Write a function to check whether a given string is a palindrome (a string that reads the same forward and backward is called palindrome).\n",
    "# String = “mom”  # if we reverse this string, we get the same Output “mom”\n",
    "# Expected output: string is a palindrome.\n",
    "\n",
    "# simple method\n",
    "\n",
    "string = \"zoz\"\n",
    "if string == string[::-1]:\n",
    "    print(\"this is string palindrome\")\n",
    "else:\n",
    "    print(\"this is not string palindrome\")"
   ]
  },
  {
   "cell_type": "code",
   "execution_count": 15,
   "id": "76af81db-0474-4b1e-9122-7e39191a9ddb",
   "metadata": {},
   "outputs": [
    {
     "name": "stdout",
     "output_type": "stream",
     "text": [
      "this is string palindrome\n"
     ]
    }
   ],
   "source": [
    "# using function logice\n",
    "\n",
    "def palindrome(string):\n",
    "    if string == string[::-1]:\n",
    "        print(\"this is string palindrome\")\n",
    "    else:\n",
    "        print(\"this is not string palindrome\")\n",
    "palindrome(\"mom\")    "
   ]
  },
  {
   "cell_type": "code",
   "execution_count": 17,
   "id": "00404b46-53b4-490c-8f5e-c1d3358c3c77",
   "metadata": {},
   "outputs": [
    {
     "name": "stdin",
     "output_type": "stream",
     "text": [
      "enter the string:  mom\n"
     ]
    },
    {
     "name": "stdout",
     "output_type": "stream",
     "text": [
      "this is string palindrome\n"
     ]
    }
   ],
   "source": [
    "# opps logic\n",
    "\n",
    "class palindrome:\n",
    "    def __init__(self, string):\n",
    "        self.string = string\n",
    "    def palindrome_string(self):\n",
    "        if self.string == self.string[::-1]:\n",
    "            print(\"this is string palindrome\")\n",
    "        else:\n",
    "            print(\"this is not string palindrome\") \n",
    "if __name__ == \"__main__\":\n",
    "    user = input(\"enter the string: \")\n",
    "    object2 = palindrome(user)\n",
    "    object2.palindrome_string()"
   ]
  },
  {
   "cell_type": "code",
   "execution_count": null,
   "id": "8c9e307c-12a6-4287-a131-692d1ee8e4e0",
   "metadata": {},
   "outputs": [],
   "source": []
  }
 ],
 "metadata": {
  "kernelspec": {
   "display_name": "Python [conda env:base] *",
   "language": "python",
   "name": "conda-base-py"
  },
  "language_info": {
   "codemirror_mode": {
    "name": "ipython",
    "version": 3
   },
   "file_extension": ".py",
   "mimetype": "text/x-python",
   "name": "python",
   "nbconvert_exporter": "python",
   "pygments_lexer": "ipython3",
   "version": "3.12.7"
  }
 },
 "nbformat": 4,
 "nbformat_minor": 5
}
